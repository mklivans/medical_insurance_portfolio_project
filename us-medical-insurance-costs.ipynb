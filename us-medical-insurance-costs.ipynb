{
 "cells": [
  {
   "cell_type": "markdown",
   "metadata": {},
   "source": [
    "# U.S. Medical Insurance Costs"
   ]
  },
  {
   "cell_type": "code",
   "execution_count": 9,
   "metadata": {},
   "outputs": [],
   "source": [
    "import csv\n",
    "\n",
    "#create empty lists for the different sets of data\n",
    "age = []\n",
    "sex = []\n",
    "bmi = []\n",
    "children = []\n",
    "smoker = []\n",
    "region = []\n",
    "charges = []\n",
    "\n",
    "#access csv file with data\n",
    "with open('insurance.csv') as insurance_csv:\n",
    "    #create DictReader object to make accessing data easier\n",
    "    insurance_dict  = csv.DictReader(insurance_csv)\n",
    "    #iterate through the DictReader object to add the data to the empty lists we created\n",
    "    for dictionary in insurance_dict:\n",
    "        age.append(dictionary['age'])\n",
    "        sex.append(dictionary['sex'])\n",
    "        bmi.append(dictionary['bmi'])\n",
    "        children.append(dictionary['children'])\n",
    "        smoker.append(dictionary['smoker'])\n",
    "        region.append(dictionary['region'])\n",
    "        charges.append(dictionary['charges'])\n",
    "        \n",
    "#some print() statements we used to ensure our data was looking how we expected\n",
    "#print(age)\n",
    "#print(sex)\n",
    "#print(bmi)\n",
    "#print(children)\n",
    "#print(smoker)\n",
    "#print(region)\n",
    "#print(charges)\n",
    "\n",
    "#it's important to remember that our data is now stored in arrays of STRINGS, even the data that is numbers"
   ]
  },
  {
   "cell_type": "code",
   "execution_count": null,
   "metadata": {},
   "outputs": [],
   "source": []
  }
 ],
 "metadata": {
  "kernelspec": {
   "display_name": "Python 3",
   "language": "python",
   "name": "python3"
  },
  "language_info": {
   "codemirror_mode": {
    "name": "ipython",
    "version": 3
   },
   "file_extension": ".py",
   "mimetype": "text/x-python",
   "name": "python",
   "nbconvert_exporter": "python",
   "pygments_lexer": "ipython3",
   "version": "3.8.5"
  }
 },
 "nbformat": 4,
 "nbformat_minor": 4
}
