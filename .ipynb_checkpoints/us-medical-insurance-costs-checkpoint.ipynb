{
 "cells": [
  {
   "cell_type": "markdown",
   "metadata": {},
   "source": [
    "# U.S. Medical Insurance Costs"
   ]
  },
  {
   "cell_type": "code",
   "execution_count": 239,
   "metadata": {},
   "outputs": [],
   "source": [
    "import csv\n",
    "\n",
    "#create empty lists for the different sets of data\n",
    "age = []\n",
    "sex = []\n",
    "bmi = []\n",
    "children = []\n",
    "smoker = []\n",
    "region = []\n",
    "charges = []\n",
    "\n",
    "#access csv file with data\n",
    "with open('insurance.csv') as insurance_csv:\n",
    "    #create DictReader object to make accessing data easier\n",
    "    insurance_dict  = csv.DictReader(insurance_csv)\n",
    "    #iterate through the DictReader object to add the data to the empty lists we created\n",
    "    for dictionary in insurance_dict:\n",
    "        age.append(dictionary['age'])\n",
    "        sex.append(dictionary['sex'])\n",
    "        bmi.append(dictionary['bmi'])\n",
    "        children.append(dictionary['children'])\n",
    "        smoker.append(dictionary['smoker'])\n",
    "        region.append(dictionary['region'])\n",
    "        charges.append(dictionary['charges'])\n",
    "        \n",
    "#some print() statements we used to ensure our data is looking how we expected\n",
    "#print(age)\n",
    "#print(sex)\n",
    "#print(bmi)\n",
    "#print(children)\n",
    "#print(smoker)\n",
    "#print(region)\n",
    "#print(charges)\n",
    "\n",
    "#it's important to remember that our data is now stored in arrays of STRINGS, even the data that is numbers"
   ]
  },
  {
   "cell_type": "code",
   "execution_count": 240,
   "metadata": {},
   "outputs": [],
   "source": [
    "#This function takes a list and returns the mean of the values in the list.\n",
    "#The function will cause a TypeError if used on lists with non-number elements.\n",
    "#It would be useful to add a condition that causes it to return None should their be non-numbers in the list.\n",
    "\n",
    "def average_value(list):\n",
    "    #sum_values variable and iteration over list used to find sum of values in the given list\n",
    "    sum_values = 0\n",
    "    for value in list:\n",
    "        sum_values += float(value)\n",
    "    #the average is the sum of the values in the list divided by the number of values in the list\n",
    "    average_value = sum_values/len(list)\n",
    "    #return the average\n",
    "    return average_value\n",
    "\n",
    "#testing our function on the array of ages\n",
    "#print(average_value(age))"
   ]
  },
  {
   "cell_type": "code",
   "execution_count": 241,
   "metadata": {},
   "outputs": [
    {
     "name": "stdout",
     "output_type": "stream",
     "text": [
      "For every female in the data set, there are 1.0211480362537764 males.\n"
     ]
    }
   ],
   "source": [
    "#This function takes a list of the strings 'female' and 'male' and returns the ratio of males to females.\n",
    "#Obviously only useful for our sex list.\n",
    "\n",
    "#This function is not commented as much as the average_value() function because I have decided that these functions\n",
    "#are not complicated enough to warrant as detailed an explanation. \n",
    "\n",
    "def sex_breakdown(list):\n",
    "    num_females = 0\n",
    "    num_males = 0\n",
    "    total = len(list)\n",
    "    for person in list:\n",
    "        if person=='female':\n",
    "            num_females += 1\n",
    "        elif person=='male':\n",
    "            num_males += 1\n",
    "    ratio_males_to_females = num_males/num_females\n",
    "    #this print statement explains what our ratio means\n",
    "    print(\"For every female in the data set, there are {males} males.\".format(males = ratio_males_to_females))\n",
    "    return ratio_males_to_females\n",
    "\n",
    "breakdown_by_sex = sex_breakdown(sex)\n",
    "\n",
    "#print(breakdown_by_sex)\n",
    "\n",
    "#We find that there are slightly more males than females in the data set,\n",
    "#but the discrepancy is not large enough to cause concern."
   ]
  },
  {
   "cell_type": "code",
   "execution_count": 242,
   "metadata": {},
   "outputs": [
    {
     "name": "stdout",
     "output_type": "stream",
     "text": [
      "['southwest', 'southeast', 'northwest', 'northeast']\n"
     ]
    }
   ],
   "source": [
    "#We want to do analysis based on region, but we don't know how many regions there are, and don't feel like manually \n",
    "#checking, so this function will make and return an array with every element in a given array listed once.\n",
    "\n",
    "def list_elements(list):\n",
    "    diff_elements = []\n",
    "    #\"For every element in the given list, if the element is not already in diff_elements, add it to diff_elements.\"\n",
    "    for element in list:\n",
    "        if not element in diff_elements:\n",
    "            diff_elements.append(element)\n",
    "    return diff_elements\n",
    "\n",
    "list_of_regions = list_regions(region)\n",
    "\n",
    "print(list_of_regions)\n",
    "\n",
    "#We find that there are four different regions."
   ]
  },
  {
   "cell_type": "code",
   "execution_count": 243,
   "metadata": {},
   "outputs": [],
   "source": [
    "#This function will sort the insurance costs (elements of the charges list) into a dictionary of lists\n",
    "#where the keys are certain categories and the values are lists of the insurance costs for people in that category.\n",
    "\n",
    "def sort_costs(category_list, costs):\n",
    "    #make a list of the different categories from the category list\n",
    "    categories = list_elements(category_list)\n",
    "    #create an empty dictionary that we will fill and later return\n",
    "    cost_dictionary = {}\n",
    "    #For each category, we add a key/value pair to the dictionary where the \n",
    "    #key is the category name, and the value is a list of costs in that category.\n",
    "    for category in categories:\n",
    "        cost_dictionary.update({category : [costs[i] for i in range(len(costs)) if category_list[i]==category]})\n",
    "        #Praise the lord for list comprehensions; this one adds costs to the list depending on whether\n",
    "        #or not the element of the category list at the same index is the category we are making the list for at the moment. \n",
    "    return cost_dictionary\n",
    "\n",
    "sorted_by_region = sort_costs(region, charges)\n",
    "\n",
    "#print(sorted_by_region.keys())\n",
    "#print(sorted_by_region['southeast'])\n",
    "\n",
    "\n",
    "#This function will be useful in our analysis as it can be used to sort our data into categories.\n",
    "#From there, we can find average costs for people in certain categories, and make insights about \n",
    "#how being in different categories can affect your insurance cost. "
   ]
  },
  {
   "cell_type": "code",
   "execution_count": 244,
   "metadata": {},
   "outputs": [
    {
     "name": "stdout",
     "output_type": "stream",
     "text": [
      "southwest: 12346.93737729231\n",
      "southeast: 14735.411437609895\n",
      "northwest: 12417.575373969228\n",
      "northeast: 13406.3845163858\n",
      "\n",
      "dict_keys(['southwest', 'southeast', 'northwest', 'northeast'])\n",
      "dict_values([12346.93737729231, 14735.411437609895, 12417.575373969228, 13406.3845163858])\n"
     ]
    }
   ],
   "source": [
    "#This function takes a dictionary created by the previous function and returns the same dictionary, \n",
    "#but instead of lists of insurance costs, the values are the average insurance costs.\n",
    "\n",
    "def sorted_averages(sorted_costs_dict):\n",
    "    cost_dictionary_average = {}\n",
    "    for key in sorted_costs_dict.keys():\n",
    "        cost_dictionary_average.update({key : average_value(sorted_costs_dict[key])})\n",
    "    return cost_dictionary_average\n",
    "\n",
    "#It's important to remember that sorted means sorted into categories, not alphabetically or numerically.\n",
    "#Perhaps the names for this function and the sort_costs function could have been chosen better. \n",
    "\n",
    "sorted_by_region_averages = sorted_averages(sorted_by_region)\n",
    "\n",
    "for region in sorted_by_region_averages.keys():\n",
    "    print(region+\": \"+str(sorted_by_region_averages[region]))\n",
    "\n",
    "print(\"\")\n",
    "\n",
    "print(sorted_by_region_averages.keys())\n",
    "print(sorted_by_region_averages.values())\n"
   ]
  },
  {
   "cell_type": "code",
   "execution_count": 245,
   "metadata": {
    "scrolled": true
   },
   "outputs": [
    {
     "name": "stdout",
     "output_type": "stream",
     "text": [
      "('southwest', 12346.93737729231)\n",
      "('southeast', 14735.411437609895)\n"
     ]
    }
   ],
   "source": [
    "#some functions to help us make sense of the data\n",
    "\n",
    "#These functions return the maximum or minimum value in a dictionary \n",
    "#(we plan on using a dictionary returned by the sorted_averages function) and that value's key.\n",
    "\n",
    "#how each function works should be pretty self-explanatory...\n",
    "\n",
    "def find_minimum(sorted_averages_dict):\n",
    "    minimum = float('inf')\n",
    "    minimum_key = \"\"\n",
    "    for key in sorted_averages_dict:\n",
    "        if sorted_averages_dict[key]<minimum:\n",
    "            minimum = sorted_averages_dict[key]\n",
    "            minimum_key = key\n",
    "    return (minimum_key, minimum)\n",
    "\n",
    "def find_maximum(sorted_averages_dict):\n",
    "    maximum = 0\n",
    "    maximum_key = \"\"\n",
    "    for key in sorted_averages_dict:\n",
    "        if sorted_averages_dict[key]>maximum:\n",
    "            maximum = sorted_averages_dict[key]\n",
    "            maximum_key = key\n",
    "    return (maximum_key, maximum)\n",
    "\n",
    "print(find_minimum(sorted_by_region_averages))\n",
    "print(find_maximum(sorted_by_region_averages))"
   ]
  },
  {
   "cell_type": "code",
   "execution_count": 246,
   "metadata": {},
   "outputs": [
    {
     "name": "stdout",
     "output_type": "stream",
     "text": [
      "Minimum Average Cost: southwest: 12346.93737729231\n",
      "Maximum Average Cost: southeast: 14735.411437609895\n"
     ]
    }
   ],
   "source": [
    "#This function will take a dictionary returned by the sorted_averages function\n",
    "#and present the data in a fashion that is easy to understand.\n",
    "\n",
    "\n",
    "def compile_data(sorted_averages_dict):\n",
    "    minimum = find_minimum(sorted_averages_dict)\n",
    "    maximum = find_maximum(sorted_averages_dict)\n",
    "    print(\"Minimum Average Cost: {category}: {minimum}\".format(category=minimum[0], minimum=minimum[1]))\n",
    "    print(\"Maximum Average Cost: {category}: {maximum}\".format(category=maximum[0], maximum=maximum[1]))\n",
    "\n",
    "compile_data(sorted_by_region_averages)\n"
   ]
  },
  {
   "cell_type": "code",
   "execution_count": 247,
   "metadata": {},
   "outputs": [
    {
     "name": "stdout",
     "output_type": "stream",
     "text": [
      "Age:\n",
      "Minimum Average Cost: 21: 4730.464329642857\n",
      "Maximum Average Cost: 64: 23275.530837272723\n",
      "Smoker:\n",
      "Minimum Average Cost: no: 8434.268297856199\n",
      "Maximum Average Cost: yes: 32050.23183153285\n",
      "BMI:\n",
      "Minimum Average Cost: 43.01: 1149.3959\n",
      "Maximum Average Cost: 47.41: 63770.42801\n",
      "Children:\n",
      "Minimum Average Cost: 5: 8786.035247222222\n",
      "Maximum Average Cost: 3: 15355.31836681528\n"
     ]
    }
   ],
   "source": [
    "#This function will complete cost-based analysis on whatever other piece of data you choose. \n",
    "#For example: minimum/maximum cost based on region\n",
    "\n",
    "#The first parameter should be the name of one of the lists of data, such as age or children. \n",
    "#The second parameter should be the same name, but as a string, such as \"Age\" or \"Children\". (capitalization optional)\n",
    "def analyze(factor_to_analyze, factor_as_string):\n",
    "    print(\"{factor}:\".format(factor=factor_as_string))\n",
    "    compile_data(sorted_averages(sort_costs(factor_to_analyze, charges)))\n",
    "    return None\n",
    "\n",
    "analyze(age, \"Age\")\n",
    "analyze(smoker, \"Smoker\")\n",
    "analyze(bmi, \"BMI\")\n",
    "analyze(children, \"Children\")\n",
    "\n",
    "#analyze(region, \"Regions\")\n",
    "\n",
    "\n",
    "#Some of the less broad categories such as BMI are very specific and their minimum/maximum costs will not be very insightful.\n"
   ]
  }
 ],
 "metadata": {
  "kernelspec": {
   "display_name": "Python 3",
   "language": "python",
   "name": "python3"
  },
  "language_info": {
   "codemirror_mode": {
    "name": "ipython",
    "version": 3
   },
   "file_extension": ".py",
   "mimetype": "text/x-python",
   "name": "python",
   "nbconvert_exporter": "python",
   "pygments_lexer": "ipython3",
   "version": "3.8.5"
  }
 },
 "nbformat": 4,
 "nbformat_minor": 4
}
